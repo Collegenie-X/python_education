{
 "cells": [
  {
   "cell_type": "code",
   "execution_count": 5,
   "metadata": {},
   "outputs": [],
   "source": [
    "from task import Task \n",
    "from view_task import ViewTasks"
   ]
  },
  {
   "cell_type": "code",
   "execution_count": null,
   "metadata": {},
   "outputs": [
    {
     "name": "stdout",
     "output_type": "stream",
     "text": [
      "\n",
      "--- 할 일 목록 ---\n",
      "[1] 그림 그리기 (미완료)\n",
      "[2] 공부하기 (미완료)\n",
      "[3] 친구 만나기 (미완료)\n"
     ]
    }
   ],
   "source": [
    "tasks_list = [Task(1,\"그림 그리기\") , \n",
    "              Task(2,\"공부하기\"), \n",
    "              Task(3,\"친구 만나기\")] \n",
    "view_task = ViewTasks(tasks_list)\n",
    "view_task.execute() "
   ]
  },
  {
   "cell_type": "markdown",
   "metadata": {},
   "source": [
    "## update (id,task_name,task_list) "
   ]
  },
  {
   "cell_type": "code",
   "execution_count": null,
   "metadata": {},
   "outputs": [],
   "source": [
    "# update_task.py\n",
    "class UpdateTask:\n",
    "    def __init__(self, task_index, new_task_name, tasks_list):\n",
    "        self.task_index = task_index\n",
    "        self.new_task_name = new_task_name\n",
    "        self.tasks = tasks_list\n",
    "\n",
    "    def execute(self):\n",
    "        \"\"\"할 일 이름 수정\"\"\"\n",
    "        for task in self.tasks:\n",
    "            if task.index == self.task_index:\n",
    "                task.name = self.new_task_name\n",
    "                print(f\"할 일 '{self.task_index}'이 '{self.new_task_name}'로 수정되었습니다.\")\n",
    "                return\n",
    "        print(f\"할 일 인덱스 '{self.task_index}'을 찾을 수 없습니다.\")\n"
   ]
  },
  {
   "cell_type": "code",
   "execution_count": 8,
   "metadata": {},
   "outputs": [
    {
     "name": "stdout",
     "output_type": "stream",
     "text": [
      "할 일 '2'이 '조기 축구하기'로 수정되었습니다.\n",
      "\n",
      "--- 할 일 목록 ---\n",
      "[1] 그림 그리기 (미완료)\n",
      "[2] 조기 축구하기 (미완료)\n",
      "[3] 친구 만나기 (미완료)\n"
     ]
    }
   ],
   "source": [
    "updated_task = UpdateTask(2, \"조기 축구하기\", tasks_list) \n",
    "updated_task.execute() \n",
    "\n",
    "veiw_task = ViewTasks(tasks_list) \n",
    "view_task.execute() "
   ]
  }
 ],
 "metadata": {
  "kernelspec": {
   "display_name": "Python 3",
   "language": "python",
   "name": "python3"
  },
  "language_info": {
   "codemirror_mode": {
    "name": "ipython",
    "version": 3
   },
   "file_extension": ".py",
   "mimetype": "text/x-python",
   "name": "python",
   "nbconvert_exporter": "python",
   "pygments_lexer": "ipython3",
   "version": "3.13.2"
  }
 },
 "nbformat": 4,
 "nbformat_minor": 2
}
