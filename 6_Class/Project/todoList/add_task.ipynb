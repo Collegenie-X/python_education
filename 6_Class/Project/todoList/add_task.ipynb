{
 "cells": [
  {
   "cell_type": "code",
   "execution_count": null,
   "metadata": {},
   "outputs": [],
   "source": [
    "# add_task.py\n",
    "from task import Task\n",
    "\n",
    "\n",
    "class AddTask:\n",
    "    def __init__(self, task_name, tasks_list, index_counter):\n",
    "        self.task_name = task_name\n",
    "        self.tasks = tasks_list\n",
    "        self.index_counter = index_counter\n",
    "\n",
    "    def execute(self):\n",
    "        \"\"\"새로운 할 일 추가\"\"\"\n",
    "        task = Task(self.index_counter, self.task_name)\n",
    "        self.tasks.append(task)\n",
    "        self.index_counter += 1\n",
    "        print(f\"할 일 '{self.task_name}'가 추가되었습니다.\")\n"
   ]
  },
  {
   "cell_type": "code",
   "execution_count": 5,
   "metadata": {},
   "outputs": [
    {
     "name": "stdout",
     "output_type": "stream",
     "text": [
      "할 일 '공부하기'가 추가되었습니다.\n",
      "[1] 공부하기 (미완료)\n"
     ]
    }
   ],
   "source": [
    "## [1] 공부하기 \n",
    "\n",
    "###  task_list = [ ] , task_name = \"공부하기\" , index = 1\n",
    "task_list = [] \n",
    "id = 1 \n",
    "\n",
    "task1 = AddTask (\"공부하기\",task_list,id)\n",
    "task1.execute()\n",
    "id += 1 \n",
    "\n",
    "print(task_list[0]) "
   ]
  },
  {
   "cell_type": "code",
   "execution_count": 11,
   "metadata": {},
   "outputs": [
    {
     "name": "stdout",
     "output_type": "stream",
     "text": [
      "[1] 공부하기 (미완료)\n",
      "{'index': 1, 'name': '공부하기', 'status': '미완료'}\n"
     ]
    }
   ],
   "source": [
    "print(task_list[0])\n",
    "print(task_list[0].__dict__) "
   ]
  },
  {
   "cell_type": "code",
   "execution_count": 12,
   "metadata": {},
   "outputs": [
    {
     "name": "stdout",
     "output_type": "stream",
     "text": [
      "할 일 '방 청소하기'가 추가되었습니다.\n",
      "[1] 공부하기 (미완료)\n",
      "[2] 방 청소하기 (미완료)\n"
     ]
    }
   ],
   "source": [
    "\n",
    "task1 = AddTask (\"방 청소하기\",task_list,id)\n",
    "task1.execute()\n",
    "id += 1 \n",
    "\n",
    "for task in task_list : \n",
    "    print (task) \n"
   ]
  },
  {
   "cell_type": "code",
   "execution_count": null,
   "metadata": {},
   "outputs": [
    {
     "data": {
      "text/plain": [
       "11"
      ]
     },
     "execution_count": 16,
     "metadata": {},
     "output_type": "execute_result"
    }
   ],
   "source": [
    "ex_list = [ {\"id\":1,\"text\":\"kim\"}, \n",
    "           {\"id\":3,\"text\":\"kim\"}, \n",
    "           {\"id\":4,\"text\":\"kim\"}, \n",
    "           {\"id\":10,\"text\":\"kim\"}\n",
    "            ]\n",
    "\n",
    "ex_list[-1][\"id\"]"
   ]
  }
 ],
 "metadata": {
  "kernelspec": {
   "display_name": "Python 3",
   "language": "python",
   "name": "python3"
  },
  "language_info": {
   "codemirror_mode": {
    "name": "ipython",
    "version": 3
   },
   "file_extension": ".py",
   "mimetype": "text/x-python",
   "name": "python",
   "nbconvert_exporter": "python",
   "pygments_lexer": "ipython3",
   "version": "3.13.2"
  }
 },
 "nbformat": 4,
 "nbformat_minor": 2
}
