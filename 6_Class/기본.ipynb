{
 "cells": [
  {
   "cell_type": "code",
   "execution_count": null,
   "metadata": {},
   "outputs": [],
   "source": [
    "class Car:\n",
    "\n",
    "    def __init__(self, brand, model, color):\n",
    "        self.brand = brand\n",
    "        self.model = model\n",
    "        self.color = color\n",
    "\n",
    "    def display_info(self):\n",
    "        print(f\"This is {self.color }'s car.\")\n",
    "        return {\"brand\": self.brand, \"model\": self.model}"
   ]
  },
  {
   "cell_type": "code",
   "execution_count": null,
   "metadata": {},
   "outputs": [
    {
     "name": "stdout",
     "output_type": "stream",
     "text": [
      "This is red's car.\n",
      "car Brand: KIA, Model: Sonata\n",
      "\n",
      "This is black's car.\n",
      "new_car Brand: Hyundae, Model: Satafe\n"
     ]
    }
   ],
   "source": [
    "car = Car(brand=\"Toyota\", model=\"Corolla\", color=\"red\")\n",
    "car.brand = \"KIA\"\n",
    "car.model = \"Sonata\"\n",
    "\n",
    "\n",
    "print(\"car\", car.display_info())\n",
    "print()\n",
    "new_car = Car(\"Hyundae\", \"Satafe\", \"black\")\n",
    "result = new_car.display_info()\n",
    "\n",
    "print(result[\"model\"]) "
   ]
  },
  {
   "cell_type": "code",
   "execution_count": 14,
   "metadata": {},
   "outputs": [],
   "source": [
    "class Dog:\n",
    "    def __init__(self, name = \"no name\", breed=\"black dog\"):\n",
    "        self.name = name\n",
    "        self.breed = breed\n",
    "\n",
    "    def bark(self):\n",
    "        print(f\"{self.name} : says woof!\")\n",
    "\n",
    "    def introduce(self):\n",
    "        print(f\"{self.name} and I am a {self.breed} !\")"
   ]
  },
  {
   "cell_type": "code",
   "execution_count": null,
   "metadata": {},
   "outputs": [
    {
     "name": "stdout",
     "output_type": "stream",
     "text": [
      "yoyo : says woof!\n",
      "yoyo and I am a black dog !\n"
     ]
    }
   ],
   "source": [
    "dog1 = Dog(\"yoyo\")\n",
    "\n",
    "dog1.bark()\n",
    "dog1.introduce()"
   ]
  },
  {
   "cell_type": "markdown",
   "metadata": {},
   "source": [
    "#### 속성,기능(함수),  관계(상속)  \n",
    "\n",
    "> 상속은 class에서 매우 중요한 개념입니다.\n"
   ]
  },
  {
   "cell_type": "code",
   "execution_count": null,
   "metadata": {},
   "outputs": [
    {
     "name": "stdout",
     "output_type": "stream",
     "text": [
      "송강호배우\n",
      "대표 작품은 기생충\n"
     ]
    }
   ],
   "source": [
    "class Person:\n",
    "    def __init__(self, name, job):\n",
    "        self.name = name\n",
    "        self.job = job\n",
    "\n",
    "    def introduce(self):\n",
    "        print(f\"{self.name}{self.job}\")\n",
    "\n",
    "\n",
    "class Actor(Person):\n",
    "\n",
    "    def __init__(self, name, best_movie):\n",
    "        super().__init__(name, job=\"배우\")\n",
    "        self.best_movie = best_movie\n",
    "\n",
    "    def filmography(self):\n",
    "        print(f\"대표 작품은 {self.best_movie}\")"
   ]
  },
  {
   "cell_type": "code",
   "execution_count": null,
   "metadata": {},
   "outputs": [],
   "source": [
    "actor_song = Actor(\"송강호\", best_movie=\"기생충\")\n",
    "\n",
    "actor_song.introduce()\n",
    "actor_song.filmography()"
   ]
  }
 ],
 "metadata": {
  "kernelspec": {
   "display_name": "Python 3",
   "language": "python",
   "name": "python3"
  },
  "language_info": {
   "codemirror_mode": {
    "name": "ipython",
    "version": 3
   },
   "file_extension": ".py",
   "mimetype": "text/x-python",
   "name": "python",
   "nbconvert_exporter": "python",
   "pygments_lexer": "ipython3",
   "version": "3.13.2"
  }
 },
 "nbformat": 4,
 "nbformat_minor": 2
}
